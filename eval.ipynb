{
 "cells": [
  {
   "cell_type": "code",
   "execution_count": 306,
   "id": "9d711d1b-a5bc-481f-9f6c-e46636239bf8",
   "metadata": {
    "tags": []
   },
   "outputs": [],
   "source": [
    "import csv\n",
    "import numpy as np\n",
    "import pandas as pd\n",
    "import matplotlib.pyplot as plt\n",
    "from functools import lru_cache\n",
    "from pprint import pprint"
   ]
  },
  {
   "attachments": {},
   "cell_type": "markdown",
   "id": "561fb033",
   "metadata": {},
   "source": [
    "### Testando o carregamento do CSV do aprendizado da Q-table"
   ]
  },
  {
   "cell_type": "code",
   "execution_count": 307,
   "id": "810a1637",
   "metadata": {},
   "outputs": [
    {
     "data": {
      "text/html": [
       "<div>\n",
       "<style scoped>\n",
       "    .dataframe tbody tr th:only-of-type {\n",
       "        vertical-align: middle;\n",
       "    }\n",
       "\n",
       "    .dataframe tbody tr th {\n",
       "        vertical-align: top;\n",
       "    }\n",
       "\n",
       "    .dataframe thead th {\n",
       "        text-align: right;\n",
       "    }\n",
       "</style>\n",
       "<table border=\"1\" class=\"dataframe\">\n",
       "  <thead>\n",
       "    <tr style=\"text-align: right;\">\n",
       "      <th></th>\n",
       "      <th>episode</th>\n",
       "      <th>epsilon</th>\n",
       "      <th>steps</th>\n",
       "      <th>dones</th>\n",
       "      <th>truncs</th>\n",
       "      <th>total_seconds</th>\n",
       "      <th>q_table_zeros</th>\n",
       "    </tr>\n",
       "  </thead>\n",
       "  <tbody>\n",
       "    <tr>\n",
       "      <th>0</th>\n",
       "      <td>0</td>\n",
       "      <td>0.0</td>\n",
       "      <td>0</td>\n",
       "      <td>0</td>\n",
       "      <td>0</td>\n",
       "      <td>0.000000</td>\n",
       "      <td>3000</td>\n",
       "    </tr>\n",
       "    <tr>\n",
       "      <th>1</th>\n",
       "      <td>1</td>\n",
       "      <td>0.1</td>\n",
       "      <td>493</td>\n",
       "      <td>1</td>\n",
       "      <td>0</td>\n",
       "      <td>0.056299</td>\n",
       "      <td>2737</td>\n",
       "    </tr>\n",
       "    <tr>\n",
       "      <th>2</th>\n",
       "      <td>2</td>\n",
       "      <td>0.1</td>\n",
       "      <td>1000</td>\n",
       "      <td>1</td>\n",
       "      <td>1</td>\n",
       "      <td>0.170006</td>\n",
       "      <td>2276</td>\n",
       "    </tr>\n",
       "    <tr>\n",
       "      <th>3</th>\n",
       "      <td>3</td>\n",
       "      <td>0.1</td>\n",
       "      <td>529</td>\n",
       "      <td>2</td>\n",
       "      <td>1</td>\n",
       "      <td>0.226841</td>\n",
       "      <td>2137</td>\n",
       "    </tr>\n",
       "    <tr>\n",
       "      <th>4</th>\n",
       "      <td>4</td>\n",
       "      <td>0.1</td>\n",
       "      <td>231</td>\n",
       "      <td>3</td>\n",
       "      <td>1</td>\n",
       "      <td>0.251402</td>\n",
       "      <td>2137</td>\n",
       "    </tr>\n",
       "  </tbody>\n",
       "</table>\n",
       "</div>"
      ],
      "text/plain": [
       "   episode  epsilon  steps  dones  truncs  total_seconds  q_table_zeros\n",
       "0        0      0.0      0      0       0       0.000000           3000\n",
       "1        1      0.1    493      1       0       0.056299           2737\n",
       "2        2      0.1   1000      1       1       0.170006           2276\n",
       "3        3      0.1    529      2       1       0.226841           2137\n",
       "4        4      0.1    231      3       1       0.251402           2137"
      ]
     },
     "execution_count": 307,
     "metadata": {},
     "output_type": "execute_result"
    }
   ],
   "source": [
    "qgye_csv = \"qtb/qgye2/qgye2_a_15000_1000.csv\"\n",
    "qgye = pd.read_csv(qgye_csv, sep=\";\")\n",
    "qgye.head()"
   ]
  },
  {
   "attachments": {},
   "cell_type": "markdown",
   "id": "d3e0d422",
   "metadata": {},
   "source": [
    "Cálculo de número de steps até determinado episódio"
   ]
  },
  {
   "cell_type": "code",
   "execution_count": 308,
   "id": "9e604c98",
   "metadata": {},
   "outputs": [
    {
     "data": {
      "text/plain": [
       "63934"
      ]
     },
     "execution_count": 308,
     "metadata": {},
     "output_type": "execute_result"
    }
   ],
   "source": [
    "qgye[qgye['episode']<=200]['steps'].sum()"
   ]
  },
  {
   "attachments": {},
   "cell_type": "markdown",
   "id": "8acad615",
   "metadata": {},
   "source": [
    "Cálculo de segundos corridos até determinado episódio"
   ]
  },
  {
   "cell_type": "code",
   "execution_count": 309,
   "id": "f2aaf387",
   "metadata": {},
   "outputs": [
    {
     "data": {
      "text/plain": [
       "6.82568"
      ]
     },
     "execution_count": 309,
     "metadata": {},
     "output_type": "execute_result"
    }
   ],
   "source": [
    "num = qgye.iloc[200]['total_seconds']\n",
    "num"
   ]
  },
  {
   "attachments": {},
   "cell_type": "markdown",
   "id": "a69cf703",
   "metadata": {},
   "source": [
    "Função que carrega CSV do aprendizado em dataframe"
   ]
  },
  {
   "cell_type": "code",
   "execution_count": 310,
   "id": "0cd4485e",
   "metadata": {},
   "outputs": [],
   "source": [
    "@lru_cache(maxsize=100)\n",
    "def get_qgye(\n",
    "    epsilon_option,\n",
    "    num_episodes,\n",
    "    max_steps,\n",
    "):\n",
    "    qgye_csv = f\"qtb/qgye2/qgye2_{epsilon_option}_{num_episodes}_{max_steps}.csv\"\n",
    "    qgye = pd.read_csv(qgye_csv, sep=\";\")\n",
    "    return qgye"
   ]
  },
  {
   "attachments": {},
   "cell_type": "markdown",
   "id": "2d61ec59",
   "metadata": {},
   "source": [
    "Função que pega total de steps e segundos de um episódio de um CSV de aprendizagem"
   ]
  },
  {
   "cell_type": "code",
   "execution_count": 311,
   "id": "3b5e7ebc",
   "metadata": {},
   "outputs": [],
   "source": [
    "@lru_cache(maxsize=100)\n",
    "def steps_secs(\n",
    "    epsilon_option,\n",
    "    num_episodes,\n",
    "    max_steps,\n",
    "    episode,\n",
    "):\n",
    "    qgye = get_qgye(\n",
    "        epsilon_option,\n",
    "        num_episodes,\n",
    "        max_steps,\n",
    "    )\n",
    "    steps = qgye[qgye['episode']<=episode]['steps'].sum()\n",
    "    total_seconds = qgye.iloc[episode]['total_seconds']\n",
    "    return steps, total_seconds"
   ]
  },
  {
   "attachments": {},
   "cell_type": "markdown",
   "id": "2f9dcf58",
   "metadata": {},
   "source": [
    "Teste"
   ]
  },
  {
   "cell_type": "code",
   "execution_count": 312,
   "id": "91a0aaa9",
   "metadata": {},
   "outputs": [
    {
     "data": {
      "text/plain": [
       "(77224, 8.259225)"
      ]
     },
     "execution_count": 312,
     "metadata": {},
     "output_type": "execute_result"
    }
   ],
   "source": [
    "steps_secs('a', 15000, 1000, 300)"
   ]
  },
  {
   "attachments": {},
   "cell_type": "markdown",
   "id": "16ef46a7",
   "metadata": {},
   "source": [
    "### Carregando o arquivo de avaliação da aprendizagem"
   ]
  },
  {
   "cell_type": "code",
   "execution_count": 313,
   "id": "aa50f1af-9565-46eb-af9b-9d70f65dff4a",
   "metadata": {
    "tags": []
   },
   "outputs": [],
   "source": [
    "eval_file_name = \"qtb/qgye2/qeval.txt\""
   ]
  },
  {
   "cell_type": "code",
   "execution_count": 314,
   "id": "6d0d7b52-5128-4f60-a820-5ee6c84a7e34",
   "metadata": {
    "tags": []
   },
   "outputs": [
    {
     "data": {
      "text/html": [
       "<div>\n",
       "<style scoped>\n",
       "    .dataframe tbody tr th:only-of-type {\n",
       "        vertical-align: middle;\n",
       "    }\n",
       "\n",
       "    .dataframe tbody tr th {\n",
       "        vertical-align: top;\n",
       "    }\n",
       "\n",
       "    .dataframe thead th {\n",
       "        text-align: right;\n",
       "    }\n",
       "</style>\n",
       "<table border=\"1\" class=\"dataframe\">\n",
       "  <thead>\n",
       "    <tr style=\"text-align: right;\">\n",
       "      <th></th>\n",
       "      <th>epsilon_type</th>\n",
       "      <th>train_episodes</th>\n",
       "      <th>percent_dones</th>\n",
       "      <th>avg_steps</th>\n",
       "    </tr>\n",
       "  </thead>\n",
       "  <tbody>\n",
       "    <tr>\n",
       "      <th>531</th>\n",
       "      <td>b</td>\n",
       "      <td>1800</td>\n",
       "      <td>99.00</td>\n",
       "      <td>13.030303</td>\n",
       "    </tr>\n",
       "    <tr>\n",
       "      <th>847</th>\n",
       "      <td>b</td>\n",
       "      <td>1900</td>\n",
       "      <td>100.00</td>\n",
       "      <td>13.070000</td>\n",
       "    </tr>\n",
       "    <tr>\n",
       "      <th>820</th>\n",
       "      <td>b</td>\n",
       "      <td>2000</td>\n",
       "      <td>99.33</td>\n",
       "      <td>13.036913</td>\n",
       "    </tr>\n",
       "    <tr>\n",
       "      <th>108</th>\n",
       "      <td>b</td>\n",
       "      <td>2100</td>\n",
       "      <td>99.00</td>\n",
       "      <td>13.026936</td>\n",
       "    </tr>\n",
       "    <tr>\n",
       "      <th>955</th>\n",
       "      <td>b</td>\n",
       "      <td>2200</td>\n",
       "      <td>99.67</td>\n",
       "      <td>13.053512</td>\n",
       "    </tr>\n",
       "    <tr>\n",
       "      <th>534</th>\n",
       "      <td>b</td>\n",
       "      <td>2300</td>\n",
       "      <td>99.67</td>\n",
       "      <td>13.053512</td>\n",
       "    </tr>\n",
       "    <tr>\n",
       "      <th>742</th>\n",
       "      <td>b</td>\n",
       "      <td>2400</td>\n",
       "      <td>100.00</td>\n",
       "      <td>13.070000</td>\n",
       "    </tr>\n",
       "    <tr>\n",
       "      <th>850</th>\n",
       "      <td>b</td>\n",
       "      <td>2500</td>\n",
       "      <td>100.00</td>\n",
       "      <td>13.070000</td>\n",
       "    </tr>\n",
       "    <tr>\n",
       "      <th>761</th>\n",
       "      <td>b</td>\n",
       "      <td>2600</td>\n",
       "      <td>100.00</td>\n",
       "      <td>13.070000</td>\n",
       "    </tr>\n",
       "    <tr>\n",
       "      <th>962</th>\n",
       "      <td>b</td>\n",
       "      <td>2700</td>\n",
       "      <td>100.00</td>\n",
       "      <td>13.070000</td>\n",
       "    </tr>\n",
       "    <tr>\n",
       "      <th>293</th>\n",
       "      <td>b</td>\n",
       "      <td>2800</td>\n",
       "      <td>100.00</td>\n",
       "      <td>13.070000</td>\n",
       "    </tr>\n",
       "    <tr>\n",
       "      <th>743</th>\n",
       "      <td>b</td>\n",
       "      <td>2900</td>\n",
       "      <td>100.00</td>\n",
       "      <td>13.070000</td>\n",
       "    </tr>\n",
       "    <tr>\n",
       "      <th>615</th>\n",
       "      <td>b</td>\n",
       "      <td>3000</td>\n",
       "      <td>100.00</td>\n",
       "      <td>13.070000</td>\n",
       "    </tr>\n",
       "  </tbody>\n",
       "</table>\n",
       "</div>"
      ],
      "text/plain": [
       "    epsilon_type  train_episodes  percent_dones  avg_steps\n",
       "531            b            1800          99.00  13.030303\n",
       "847            b            1900         100.00  13.070000\n",
       "820            b            2000          99.33  13.036913\n",
       "108            b            2100          99.00  13.026936\n",
       "955            b            2200          99.67  13.053512\n",
       "534            b            2300          99.67  13.053512\n",
       "742            b            2400         100.00  13.070000\n",
       "850            b            2500         100.00  13.070000\n",
       "761            b            2600         100.00  13.070000\n",
       "962            b            2700         100.00  13.070000\n",
       "293            b            2800         100.00  13.070000\n",
       "743            b            2900         100.00  13.070000\n",
       "615            b            3000         100.00  13.070000"
      ]
     },
     "execution_count": 314,
     "metadata": {},
     "output_type": "execute_result"
    }
   ],
   "source": [
    "columns = ['epsilon_type','train_episodes','percent_dones','avg_steps']\n",
    "qeval = pd.read_csv(eval_file_name, sep=\";\", header=None, names=columns).sort_values(['epsilon_type', 'train_episodes'])\n",
    "qeval[\n",
    "    (qeval['epsilon_type']=='b') & (qeval['train_episodes']>=1800) & (qeval['train_episodes']<=3000)\n",
    "]"
   ]
  },
  {
   "attachments": {},
   "cell_type": "markdown",
   "id": "fa54b6b6",
   "metadata": {},
   "source": [
    "Adicionando ao dataframe de avaliação os steps e os segundos"
   ]
  },
  {
   "cell_type": "code",
   "execution_count": 315,
   "id": "a25df19b",
   "metadata": {},
   "outputs": [
    {
     "data": {
      "text/html": [
       "<div>\n",
       "<style scoped>\n",
       "    .dataframe tbody tr th:only-of-type {\n",
       "        vertical-align: middle;\n",
       "    }\n",
       "\n",
       "    .dataframe tbody tr th {\n",
       "        vertical-align: top;\n",
       "    }\n",
       "\n",
       "    .dataframe thead th {\n",
       "        text-align: right;\n",
       "    }\n",
       "</style>\n",
       "<table border=\"1\" class=\"dataframe\">\n",
       "  <thead>\n",
       "    <tr style=\"text-align: right;\">\n",
       "      <th></th>\n",
       "      <th>epsilon_type</th>\n",
       "      <th>train_episodes</th>\n",
       "      <th>percent_dones</th>\n",
       "      <th>avg_steps</th>\n",
       "      <th>steps</th>\n",
       "      <th>total_seconds</th>\n",
       "    </tr>\n",
       "  </thead>\n",
       "  <tbody>\n",
       "    <tr>\n",
       "      <th>347</th>\n",
       "      <td>a</td>\n",
       "      <td>100</td>\n",
       "      <td>0.00</td>\n",
       "      <td>0.000000</td>\n",
       "      <td>44523</td>\n",
       "      <td>4.744126</td>\n",
       "    </tr>\n",
       "    <tr>\n",
       "      <th>1046</th>\n",
       "      <td>a</td>\n",
       "      <td>200</td>\n",
       "      <td>0.33</td>\n",
       "      <td>7.000000</td>\n",
       "      <td>63934</td>\n",
       "      <td>6.825680</td>\n",
       "    </tr>\n",
       "    <tr>\n",
       "      <th>567</th>\n",
       "      <td>a</td>\n",
       "      <td>300</td>\n",
       "      <td>0.33</td>\n",
       "      <td>6.000000</td>\n",
       "      <td>77224</td>\n",
       "      <td>8.259225</td>\n",
       "    </tr>\n",
       "    <tr>\n",
       "      <th>302</th>\n",
       "      <td>a</td>\n",
       "      <td>400</td>\n",
       "      <td>4.00</td>\n",
       "      <td>8.416667</td>\n",
       "      <td>86240</td>\n",
       "      <td>9.231001</td>\n",
       "    </tr>\n",
       "    <tr>\n",
       "      <th>320</th>\n",
       "      <td>a</td>\n",
       "      <td>500</td>\n",
       "      <td>10.67</td>\n",
       "      <td>9.187500</td>\n",
       "      <td>94775</td>\n",
       "      <td>10.152999</td>\n",
       "    </tr>\n",
       "  </tbody>\n",
       "</table>\n",
       "</div>"
      ],
      "text/plain": [
       "     epsilon_type  train_episodes  percent_dones  avg_steps  steps   \n",
       "347             a             100           0.00   0.000000  44523  \\\n",
       "1046            a             200           0.33   7.000000  63934   \n",
       "567             a             300           0.33   6.000000  77224   \n",
       "302             a             400           4.00   8.416667  86240   \n",
       "320             a             500          10.67   9.187500  94775   \n",
       "\n",
       "      total_seconds  \n",
       "347        4.744126  \n",
       "1046       6.825680  \n",
       "567        8.259225  \n",
       "302        9.231001  \n",
       "320       10.152999  "
      ]
     },
     "execution_count": 315,
     "metadata": {},
     "output_type": "execute_result"
    }
   ],
   "source": [
    "qeval['steps'] = qeval.apply(\n",
    "    lambda x: steps_secs(\n",
    "        x['epsilon_type'], 15000, 1000, x['train_episodes']\n",
    "    )[0],\n",
    "    axis=1,\n",
    ")\n",
    "qeval['total_seconds'] = qeval.apply(\n",
    "    lambda x: steps_secs(\n",
    "        x['epsilon_type'], 15000, 1000, x['train_episodes']\n",
    "    )[1],\n",
    "    axis=1,\n",
    ")\n",
    "qeval.head()"
   ]
  },
  {
   "attachments": {},
   "cell_type": "markdown",
   "id": "ced458dd",
   "metadata": {},
   "source": [
    "Coluna train_episodes passa a ser em centenas"
   ]
  },
  {
   "cell_type": "code",
   "execution_count": 316,
   "id": "50e645b8",
   "metadata": {},
   "outputs": [
    {
     "data": {
      "text/html": [
       "<div>\n",
       "<style scoped>\n",
       "    .dataframe tbody tr th:only-of-type {\n",
       "        vertical-align: middle;\n",
       "    }\n",
       "\n",
       "    .dataframe tbody tr th {\n",
       "        vertical-align: top;\n",
       "    }\n",
       "\n",
       "    .dataframe thead th {\n",
       "        text-align: right;\n",
       "    }\n",
       "</style>\n",
       "<table border=\"1\" class=\"dataframe\">\n",
       "  <thead>\n",
       "    <tr style=\"text-align: right;\">\n",
       "      <th></th>\n",
       "      <th>epsilon_type</th>\n",
       "      <th>train_episodes</th>\n",
       "      <th>percent_dones</th>\n",
       "      <th>avg_steps</th>\n",
       "      <th>steps</th>\n",
       "      <th>total_seconds</th>\n",
       "    </tr>\n",
       "  </thead>\n",
       "  <tbody>\n",
       "    <tr>\n",
       "      <th>347</th>\n",
       "      <td>a</td>\n",
       "      <td>1.0</td>\n",
       "      <td>0.00</td>\n",
       "      <td>0.000000</td>\n",
       "      <td>44523</td>\n",
       "      <td>4.744126</td>\n",
       "    </tr>\n",
       "    <tr>\n",
       "      <th>1046</th>\n",
       "      <td>a</td>\n",
       "      <td>2.0</td>\n",
       "      <td>0.33</td>\n",
       "      <td>7.000000</td>\n",
       "      <td>63934</td>\n",
       "      <td>6.825680</td>\n",
       "    </tr>\n",
       "    <tr>\n",
       "      <th>567</th>\n",
       "      <td>a</td>\n",
       "      <td>3.0</td>\n",
       "      <td>0.33</td>\n",
       "      <td>6.000000</td>\n",
       "      <td>77224</td>\n",
       "      <td>8.259225</td>\n",
       "    </tr>\n",
       "    <tr>\n",
       "      <th>302</th>\n",
       "      <td>a</td>\n",
       "      <td>4.0</td>\n",
       "      <td>4.00</td>\n",
       "      <td>8.416667</td>\n",
       "      <td>86240</td>\n",
       "      <td>9.231001</td>\n",
       "    </tr>\n",
       "    <tr>\n",
       "      <th>320</th>\n",
       "      <td>a</td>\n",
       "      <td>5.0</td>\n",
       "      <td>10.67</td>\n",
       "      <td>9.187500</td>\n",
       "      <td>94775</td>\n",
       "      <td>10.152999</td>\n",
       "    </tr>\n",
       "  </tbody>\n",
       "</table>\n",
       "</div>"
      ],
      "text/plain": [
       "     epsilon_type  train_episodes  percent_dones  avg_steps  steps   \n",
       "347             a             1.0           0.00   0.000000  44523  \\\n",
       "1046            a             2.0           0.33   7.000000  63934   \n",
       "567             a             3.0           0.33   6.000000  77224   \n",
       "302             a             4.0           4.00   8.416667  86240   \n",
       "320             a             5.0          10.67   9.187500  94775   \n",
       "\n",
       "      total_seconds  \n",
       "347        4.744126  \n",
       "1046       6.825680  \n",
       "567        8.259225  \n",
       "302        9.231001  \n",
       "320       10.152999  "
      ]
     },
     "execution_count": 316,
     "metadata": {},
     "output_type": "execute_result"
    }
   ],
   "source": [
    "qeval['train_episodes'] = qeval['train_episodes'] / 100\n",
    "qeval.head()"
   ]
  },
  {
   "cell_type": "code",
   "execution_count": 317,
   "id": "b394dc1b",
   "metadata": {},
   "outputs": [
    {
     "data": {
      "text/html": [
       "<div>\n",
       "<style scoped>\n",
       "    .dataframe tbody tr th:only-of-type {\n",
       "        vertical-align: middle;\n",
       "    }\n",
       "\n",
       "    .dataframe tbody tr th {\n",
       "        vertical-align: top;\n",
       "    }\n",
       "\n",
       "    .dataframe thead th {\n",
       "        text-align: right;\n",
       "    }\n",
       "</style>\n",
       "<table border=\"1\" class=\"dataframe\">\n",
       "  <thead>\n",
       "    <tr style=\"text-align: right;\">\n",
       "      <th></th>\n",
       "      <th>epsilon_type</th>\n",
       "      <th>train_episodes</th>\n",
       "      <th>percent_dones</th>\n",
       "      <th>avg_steps</th>\n",
       "      <th>steps</th>\n",
       "      <th>total_seconds</th>\n",
       "      <th>next_percent_dones</th>\n",
       "    </tr>\n",
       "  </thead>\n",
       "  <tbody>\n",
       "    <tr>\n",
       "      <th>347</th>\n",
       "      <td>a</td>\n",
       "      <td>1.0</td>\n",
       "      <td>0.00</td>\n",
       "      <td>0.000000</td>\n",
       "      <td>44523</td>\n",
       "      <td>4.744126</td>\n",
       "      <td>0.33</td>\n",
       "    </tr>\n",
       "    <tr>\n",
       "      <th>1046</th>\n",
       "      <td>a</td>\n",
       "      <td>2.0</td>\n",
       "      <td>0.33</td>\n",
       "      <td>7.000000</td>\n",
       "      <td>63934</td>\n",
       "      <td>6.825680</td>\n",
       "      <td>0.33</td>\n",
       "    </tr>\n",
       "    <tr>\n",
       "      <th>567</th>\n",
       "      <td>a</td>\n",
       "      <td>3.0</td>\n",
       "      <td>0.33</td>\n",
       "      <td>6.000000</td>\n",
       "      <td>77224</td>\n",
       "      <td>8.259225</td>\n",
       "      <td>4.00</td>\n",
       "    </tr>\n",
       "    <tr>\n",
       "      <th>302</th>\n",
       "      <td>a</td>\n",
       "      <td>4.0</td>\n",
       "      <td>4.00</td>\n",
       "      <td>8.416667</td>\n",
       "      <td>86240</td>\n",
       "      <td>9.231001</td>\n",
       "      <td>10.67</td>\n",
       "    </tr>\n",
       "    <tr>\n",
       "      <th>320</th>\n",
       "      <td>a</td>\n",
       "      <td>5.0</td>\n",
       "      <td>10.67</td>\n",
       "      <td>9.187500</td>\n",
       "      <td>94775</td>\n",
       "      <td>10.152999</td>\n",
       "      <td>13.33</td>\n",
       "    </tr>\n",
       "    <tr>\n",
       "      <th>...</th>\n",
       "      <td>...</td>\n",
       "      <td>...</td>\n",
       "      <td>...</td>\n",
       "      <td>...</td>\n",
       "      <td>...</td>\n",
       "      <td>...</td>\n",
       "      <td>...</td>\n",
       "    </tr>\n",
       "    <tr>\n",
       "      <th>97</th>\n",
       "      <td>g</td>\n",
       "      <td>146.0</td>\n",
       "      <td>100.00</td>\n",
       "      <td>13.070000</td>\n",
       "      <td>11353615</td>\n",
       "      <td>1732.256703</td>\n",
       "      <td>100.00</td>\n",
       "    </tr>\n",
       "    <tr>\n",
       "      <th>963</th>\n",
       "      <td>g</td>\n",
       "      <td>147.0</td>\n",
       "      <td>100.00</td>\n",
       "      <td>13.070000</td>\n",
       "      <td>11429132</td>\n",
       "      <td>1744.885499</td>\n",
       "      <td>100.00</td>\n",
       "    </tr>\n",
       "    <tr>\n",
       "      <th>751</th>\n",
       "      <td>g</td>\n",
       "      <td>148.0</td>\n",
       "      <td>100.00</td>\n",
       "      <td>13.070000</td>\n",
       "      <td>11504917</td>\n",
       "      <td>1757.582190</td>\n",
       "      <td>100.00</td>\n",
       "    </tr>\n",
       "    <tr>\n",
       "      <th>354</th>\n",
       "      <td>g</td>\n",
       "      <td>149.0</td>\n",
       "      <td>100.00</td>\n",
       "      <td>13.070000</td>\n",
       "      <td>11582352</td>\n",
       "      <td>1770.604701</td>\n",
       "      <td>100.00</td>\n",
       "    </tr>\n",
       "    <tr>\n",
       "      <th>878</th>\n",
       "      <td>g</td>\n",
       "      <td>150.0</td>\n",
       "      <td>100.00</td>\n",
       "      <td>13.070000</td>\n",
       "      <td>11658530</td>\n",
       "      <td>1783.415389</td>\n",
       "      <td>100.00</td>\n",
       "    </tr>\n",
       "  </tbody>\n",
       "</table>\n",
       "<p>1050 rows × 7 columns</p>\n",
       "</div>"
      ],
      "text/plain": [
       "     epsilon_type  train_episodes  percent_dones  avg_steps     steps   \n",
       "347             a             1.0           0.00   0.000000     44523  \\\n",
       "1046            a             2.0           0.33   7.000000     63934   \n",
       "567             a             3.0           0.33   6.000000     77224   \n",
       "302             a             4.0           4.00   8.416667     86240   \n",
       "320             a             5.0          10.67   9.187500     94775   \n",
       "...           ...             ...            ...        ...       ...   \n",
       "97              g           146.0         100.00  13.070000  11353615   \n",
       "963             g           147.0         100.00  13.070000  11429132   \n",
       "751             g           148.0         100.00  13.070000  11504917   \n",
       "354             g           149.0         100.00  13.070000  11582352   \n",
       "878             g           150.0         100.00  13.070000  11658530   \n",
       "\n",
       "      total_seconds  next_percent_dones  \n",
       "347        4.744126                0.33  \n",
       "1046       6.825680                0.33  \n",
       "567        8.259225                4.00  \n",
       "302        9.231001               10.67  \n",
       "320       10.152999               13.33  \n",
       "...             ...                 ...  \n",
       "97      1732.256703              100.00  \n",
       "963     1744.885499              100.00  \n",
       "751     1757.582190              100.00  \n",
       "354     1770.604701              100.00  \n",
       "878     1783.415389              100.00  \n",
       "\n",
       "[1050 rows x 7 columns]"
      ]
     },
     "execution_count": 317,
     "metadata": {},
     "output_type": "execute_result"
    }
   ],
   "source": [
    "qeval['next_percent_dones'] = qeval['percent_dones'].shift(-1)\n",
    "filtro = qeval['train_episodes'] == 150\n",
    "qeval.loc[filtro, 'next_percent_dones'] = qeval.loc[filtro, 'percent_dones']\n",
    "qeval"
   ]
  },
  {
   "attachments": {},
   "cell_type": "markdown",
   "id": "bc96cef2",
   "metadata": {},
   "source": [
    "Separa dataframe por tipos de épsilons"
   ]
  },
  {
   "cell_type": "code",
   "execution_count": 318,
   "id": "d520e83d-185e-4ab8-a61e-fb32212332ac",
   "metadata": {
    "tags": []
   },
   "outputs": [
    {
     "data": {
      "text/html": [
       "<div>\n",
       "<style scoped>\n",
       "    .dataframe tbody tr th:only-of-type {\n",
       "        vertical-align: middle;\n",
       "    }\n",
       "\n",
       "    .dataframe tbody tr th {\n",
       "        vertical-align: top;\n",
       "    }\n",
       "\n",
       "    .dataframe thead th {\n",
       "        text-align: right;\n",
       "    }\n",
       "</style>\n",
       "<table border=\"1\" class=\"dataframe\">\n",
       "  <thead>\n",
       "    <tr style=\"text-align: right;\">\n",
       "      <th></th>\n",
       "      <th>percent_dones</th>\n",
       "      <th>avg_steps</th>\n",
       "      <th>steps</th>\n",
       "      <th>total_seconds</th>\n",
       "    </tr>\n",
       "    <tr>\n",
       "      <th>train_episodes</th>\n",
       "      <th></th>\n",
       "      <th></th>\n",
       "      <th></th>\n",
       "      <th></th>\n",
       "    </tr>\n",
       "  </thead>\n",
       "  <tbody>\n",
       "    <tr>\n",
       "      <th>1.0</th>\n",
       "      <td>0.00</td>\n",
       "      <td>0.000000</td>\n",
       "      <td>44523</td>\n",
       "      <td>4.744126</td>\n",
       "    </tr>\n",
       "    <tr>\n",
       "      <th>2.0</th>\n",
       "      <td>0.33</td>\n",
       "      <td>7.000000</td>\n",
       "      <td>63934</td>\n",
       "      <td>6.825680</td>\n",
       "    </tr>\n",
       "    <tr>\n",
       "      <th>3.0</th>\n",
       "      <td>0.33</td>\n",
       "      <td>6.000000</td>\n",
       "      <td>77224</td>\n",
       "      <td>8.259225</td>\n",
       "    </tr>\n",
       "    <tr>\n",
       "      <th>4.0</th>\n",
       "      <td>4.00</td>\n",
       "      <td>8.416667</td>\n",
       "      <td>86240</td>\n",
       "      <td>9.231001</td>\n",
       "    </tr>\n",
       "    <tr>\n",
       "      <th>5.0</th>\n",
       "      <td>10.67</td>\n",
       "      <td>9.187500</td>\n",
       "      <td>94775</td>\n",
       "      <td>10.152999</td>\n",
       "    </tr>\n",
       "  </tbody>\n",
       "</table>\n",
       "</div>"
      ],
      "text/plain": [
       "                percent_dones  avg_steps  steps  total_seconds\n",
       "train_episodes                                                \n",
       "1.0                      0.00   0.000000  44523       4.744126\n",
       "2.0                      0.33   7.000000  63934       6.825680\n",
       "3.0                      0.33   6.000000  77224       8.259225\n",
       "4.0                      4.00   8.416667  86240       9.231001\n",
       "5.0                     10.67   9.187500  94775      10.152999"
      ]
     },
     "execution_count": 318,
     "metadata": {},
     "output_type": "execute_result"
    }
   ],
   "source": [
    "evals={}\n",
    "for e_type in 'abcdefg':\n",
    "    eval_t = qeval[qeval['epsilon_type']==e_type].sort_values('train_episodes')[['train_episodes', 'percent_dones', 'avg_steps', 'steps', 'total_seconds']]\n",
    "    evals[e_type] = eval_t.set_index('train_episodes')\n",
    "evals[\"a\"].head()"
   ]
  },
  {
   "attachments": {},
   "cell_type": "markdown",
   "id": "bcb61c9d",
   "metadata": {},
   "source": [
    "Testa visualização da aprendizagem de um tipo de épsilon"
   ]
  },
  {
   "cell_type": "code",
   "execution_count": 319,
   "id": "9e057995",
   "metadata": {},
   "outputs": [
    {
     "data": {
      "text/plain": [
       "Text(0.5, 0, 'train episodes')"
      ]
     },
     "execution_count": 319,
     "metadata": {},
     "output_type": "execute_result"
    },
    {
     "data": {
      "image/png": "[encoded data removed]",
      "text/plain": [
       "<Figure size 640x480 with 4 Axes>"
      ]
     },
     "metadata": {},
     "output_type": "display_data"
    }
   ],
   "source": [
    "fig, ax = plt.subplots(4, 1, sharex=True)\n",
    "\n",
    "# ax[0].set_title(\"percent dones\", size = 20)\n",
    "e='a'\n",
    "\n",
    "ax[0].plot(evals[e]['percent_dones'])\n",
    "ax[0].legend([e])\n",
    "ax[0].set_ylabel(\"percent dones\")\n",
    "ax[0].set_ylim(bottom=0)\n",
    "\n",
    "ax[1].plot(evals[e]['avg_steps'])\n",
    "ax[1].legend([e])\n",
    "ax[1].set_ylabel(\"avg steps\")\n",
    "ax[1].set_ylim(bottom=0)\n",
    "\n",
    "ax[2].plot(evals[e]['steps'])\n",
    "ax[2].legend([e])\n",
    "ax[2].set_ylabel(\"steps\")\n",
    "ax[2].set_ylim(bottom=0)\n",
    "\n",
    "ax[3].plot(evals[e]['total_seconds'])\n",
    "ax[3].legend([e])\n",
    "ax[3].set_ylabel(\"total_seconds\")\n",
    "ax[3].set_ylim(bottom=0)\n",
    "\n",
    "ax[3].set_xlabel(\"train episodes\", size = 20)"
   ]
  },
  {
   "attachments": {},
   "cell_type": "markdown",
   "id": "3cfa7ab9",
   "metadata": {},
   "source": [
    "Visualização de comparação de todos os tipos de épsilons"
   ]
  },
  {
   "cell_type": "code",
   "execution_count": 320,
   "id": "ca62488e",
   "metadata": {},
   "outputs": [
    {
     "data": {
      "image/png": "[encoded data removed]",
      "text/plain": [
       "<Figure size 640x480 with 4 Axes>"
      ]
     },
     "metadata": {},
     "output_type": "display_data"
    }
   ],
   "source": [
    "fig, ax = plt.subplots(2, 2, sharex=True)\n",
    "\n",
    "for e in evals:\n",
    "    ax[0, 0].plot(evals[e]['percent_dones'])\n",
    "    ax[0, 1].plot(evals[e]['avg_steps'])\n",
    "    ax[1, 0].plot(evals[e]['steps'])\n",
    "    ax[1, 1].plot(evals[e]['total_seconds'])\n",
    "\n",
    "fig.suptitle(\"compare epsilons\", size = 20)\n",
    "\n",
    "ax[0, 0].set_ylabel(\"percent dones\")\n",
    "ax[0, 0].set_xlim(right=30)\n",
    "ax[0, 0].set_ylim(bottom=57)\n",
    "\n",
    "ax[0, 1].set_ylabel(\"avg steps\")\n",
    "ax[0, 1].set_ylim(bottom=10)\n",
    "\n",
    "ax[1, 0].set_ylabel(\"steps\")\n",
    "ax[1, 0].set_ylim(top=3_000_000)\n",
    "\n",
    "ax[1, 1].set_ylabel(\"total_seconds\")\n",
    "ax[1, 1].set_ylim(top=400)\n",
    "\n",
    "ax[1, 0].set_xlabel(\"train episodes\")\n",
    "\n",
    "ax[1, 1].set_xlabel(\"train episodes\")\n",
    "\n",
    "fig.legend(evals.keys(), loc='center left', bbox_to_anchor=(1, 0.5))\n",
    "\n",
    "plt.tight_layout()\n",
    "plt.show()"
   ]
  },
  {
   "attachments": {},
   "cell_type": "markdown",
   "id": "566192b1",
   "metadata": {},
   "source": [
    "Montando dict de dataframes de apenas com qtables com percent_dones 100%\n",
    "\n",
    "[não utilizado adiante]"
   ]
  },
  {
   "cell_type": "code",
   "execution_count": 321,
   "id": "fdb98fe9",
   "metadata": {},
   "outputs": [
    {
     "data": {
      "text/html": [
       "<div>\n",
       "<style scoped>\n",
       "    .dataframe tbody tr th:only-of-type {\n",
       "        vertical-align: middle;\n",
       "    }\n",
       "\n",
       "    .dataframe tbody tr th {\n",
       "        vertical-align: top;\n",
       "    }\n",
       "\n",
       "    .dataframe thead th {\n",
       "        text-align: right;\n",
       "    }\n",
       "</style>\n",
       "<table border=\"1\" class=\"dataframe\">\n",
       "  <thead>\n",
       "    <tr style=\"text-align: right;\">\n",
       "      <th></th>\n",
       "      <th>avg_steps</th>\n",
       "    </tr>\n",
       "    <tr>\n",
       "      <th>train_episodes</th>\n",
       "      <th></th>\n",
       "    </tr>\n",
       "  </thead>\n",
       "  <tbody>\n",
       "    <tr>\n",
       "      <th>19.0</th>\n",
       "      <td>13.07</td>\n",
       "    </tr>\n",
       "    <tr>\n",
       "      <th>24.0</th>\n",
       "      <td>13.07</td>\n",
       "    </tr>\n",
       "    <tr>\n",
       "      <th>25.0</th>\n",
       "      <td>13.07</td>\n",
       "    </tr>\n",
       "    <tr>\n",
       "      <th>26.0</th>\n",
       "      <td>13.07</td>\n",
       "    </tr>\n",
       "    <tr>\n",
       "      <th>27.0</th>\n",
       "      <td>13.07</td>\n",
       "    </tr>\n",
       "  </tbody>\n",
       "</table>\n",
       "</div>"
      ],
      "text/plain": [
       "                avg_steps\n",
       "train_episodes           \n",
       "19.0                13.07\n",
       "24.0                13.07\n",
       "25.0                13.07\n",
       "26.0                13.07\n",
       "27.0                13.07"
      ]
     },
     "execution_count": 321,
     "metadata": {},
     "output_type": "execute_result"
    }
   ],
   "source": [
    "dones={}\n",
    "for e_type in 'abcdefg':\n",
    "    eval_t = qeval[(qeval['epsilon_type']==e_type) & (qeval['percent_dones']==100)].sort_values('train_episodes')[['train_episodes', 'avg_steps']]\n",
    "    dones[e_type] = eval_t.set_index('train_episodes')\n",
    "dones[\"b\"].head()"
   ]
  },
  {
   "attachments": {},
   "cell_type": "markdown",
   "id": "91dadc94",
   "metadata": {},
   "source": [
    "Montando q100, fitrando arquivo de avaliação da aprendizagem por percent_dones 100% (em que a avaliação seguinte de percent_dones também seja 100%, para evitar \"100% por sorte\")"
   ]
  },
  {
   "cell_type": "code",
   "execution_count": 322,
   "metadata": {},
   "outputs": [
    {
     "data": {
      "text/html": [
       "<div>\n",
       "<style scoped>\n",
       "    .dataframe tbody tr th:only-of-type {\n",
       "        vertical-align: middle;\n",
       "    }\n",
       "\n",
       "    .dataframe tbody tr th {\n",
       "        vertical-align: top;\n",
       "    }\n",
       "\n",
       "    .dataframe thead th {\n",
       "        text-align: right;\n",
       "    }\n",
       "</style>\n",
       "<table border=\"1\" class=\"dataframe\">\n",
       "  <thead>\n",
       "    <tr style=\"text-align: right;\">\n",
       "      <th></th>\n",
       "      <th>epsilon_type</th>\n",
       "      <th>train_episodes</th>\n",
       "      <th>percent_dones</th>\n",
       "      <th>avg_steps</th>\n",
       "      <th>steps</th>\n",
       "      <th>total_seconds</th>\n",
       "      <th>next_percent_dones</th>\n",
       "    </tr>\n",
       "  </thead>\n",
       "  <tbody>\n",
       "    <tr>\n",
       "      <th>742</th>\n",
       "      <td>b</td>\n",
       "      <td>24.0</td>\n",
       "      <td>100.0</td>\n",
       "      <td>13.07</td>\n",
       "      <td>632652</td>\n",
       "      <td>75.871900</td>\n",
       "      <td>100.0</td>\n",
       "    </tr>\n",
       "    <tr>\n",
       "      <th>850</th>\n",
       "      <td>b</td>\n",
       "      <td>25.0</td>\n",
       "      <td>100.0</td>\n",
       "      <td>13.07</td>\n",
       "      <td>654785</td>\n",
       "      <td>78.616581</td>\n",
       "      <td>100.0</td>\n",
       "    </tr>\n",
       "    <tr>\n",
       "      <th>761</th>\n",
       "      <td>b</td>\n",
       "      <td>26.0</td>\n",
       "      <td>100.0</td>\n",
       "      <td>13.07</td>\n",
       "      <td>675865</td>\n",
       "      <td>81.218317</td>\n",
       "      <td>100.0</td>\n",
       "    </tr>\n",
       "    <tr>\n",
       "      <th>962</th>\n",
       "      <td>b</td>\n",
       "      <td>27.0</td>\n",
       "      <td>100.0</td>\n",
       "      <td>13.07</td>\n",
       "      <td>697033</td>\n",
       "      <td>83.920049</td>\n",
       "      <td>100.0</td>\n",
       "    </tr>\n",
       "    <tr>\n",
       "      <th>293</th>\n",
       "      <td>b</td>\n",
       "      <td>28.0</td>\n",
       "      <td>100.0</td>\n",
       "      <td>13.07</td>\n",
       "      <td>716737</td>\n",
       "      <td>86.324901</td>\n",
       "      <td>100.0</td>\n",
       "    </tr>\n",
       "  </tbody>\n",
       "</table>\n",
       "</div>"
      ],
      "text/plain": [
       "    epsilon_type  train_episodes  percent_dones  avg_steps   steps   \n",
       "742            b            24.0          100.0      13.07  632652  \\\n",
       "850            b            25.0          100.0      13.07  654785   \n",
       "761            b            26.0          100.0      13.07  675865   \n",
       "962            b            27.0          100.0      13.07  697033   \n",
       "293            b            28.0          100.0      13.07  716737   \n",
       "\n",
       "     total_seconds  next_percent_dones  \n",
       "742      75.871900               100.0  \n",
       "850      78.616581               100.0  \n",
       "761      81.218317               100.0  \n",
       "962      83.920049               100.0  \n",
       "293      86.324901               100.0  "
      ]
     },
     "execution_count": 322,
     "metadata": {},
     "output_type": "execute_result"
    }
   ],
   "source": [
    "q100 = qeval[(qeval['percent_dones']==100) & (qeval['next_percent_dones']==100)]\n",
    "q100.head()"
   ]
  },
  {
   "attachments": {},
   "cell_type": "markdown",
   "id": "89b89319",
   "metadata": {},
   "source": [
    "Do q100, pegando apenas o primeiro train_episodes com percent_dones 100%, para comparar steps (em dezenas de milhares) e segundos"
   ]
  },
  {
   "cell_type": "code",
   "execution_count": 323,
   "id": "09e00972",
   "metadata": {},
   "outputs": [
    {
     "data": {
      "text/html": [
       "<div>\n",
       "<style scoped>\n",
       "    .dataframe tbody tr th:only-of-type {\n",
       "        vertical-align: middle;\n",
       "    }\n",
       "\n",
       "    .dataframe tbody tr th {\n",
       "        vertical-align: top;\n",
       "    }\n",
       "\n",
       "    .dataframe thead th {\n",
       "        text-align: right;\n",
       "    }\n",
       "</style>\n",
       "<table border=\"1\" class=\"dataframe\">\n",
       "  <thead>\n",
       "    <tr style=\"text-align: right;\">\n",
       "      <th></th>\n",
       "      <th>train_episodes</th>\n",
       "      <th>steps</th>\n",
       "      <th>total_seconds</th>\n",
       "    </tr>\n",
       "    <tr>\n",
       "      <th>epsilon_type</th>\n",
       "      <th></th>\n",
       "      <th></th>\n",
       "      <th></th>\n",
       "    </tr>\n",
       "  </thead>\n",
       "  <tbody>\n",
       "    <tr>\n",
       "      <th>b</th>\n",
       "      <td>24.0</td>\n",
       "      <td>63.2652</td>\n",
       "      <td>75.871900</td>\n",
       "    </tr>\n",
       "    <tr>\n",
       "      <th>d</th>\n",
       "      <td>86.0</td>\n",
       "      <td>69.5534</td>\n",
       "      <td>99.486675</td>\n",
       "    </tr>\n",
       "    <tr>\n",
       "      <th>g</th>\n",
       "      <td>8.0</td>\n",
       "      <td>63.2185</td>\n",
       "      <td>84.241177</td>\n",
       "    </tr>\n",
       "  </tbody>\n",
       "</table>\n",
       "</div>"
      ],
      "text/plain": [
       "              train_episodes    steps  total_seconds\n",
       "epsilon_type                                        \n",
       "b                       24.0  63.2652      75.871900\n",
       "d                       86.0  69.5534      99.486675\n",
       "g                        8.0  63.2185      84.241177"
      ]
     },
     "execution_count": 323,
     "metadata": {},
     "output_type": "execute_result"
    }
   ],
   "source": [
    "q_min_episodes = q100.groupby(by=['epsilon_type']).aggregate({\n",
    "    'train_episodes': ['min'],\n",
    "    'steps': ['min'],\n",
    "    'total_seconds': ['min'],\n",
    "})\n",
    "q_min_episodes.columns = q_min_episodes.columns.droplevel(1)\n",
    "q_min_episodes['steps'] = q_min_episodes['steps'] / 10_000\n",
    "q_min_episodes"
   ]
  },
  {
   "attachments": {},
   "cell_type": "markdown",
   "id": "427b757a",
   "metadata": {},
   "source": [
    "Colocando os dados acima em um gráfico se percebe melhor que:\n",
    "- apesar de nuito diferente a quantidade de episódios para chegar no q-table 100%, em termos de steps a diferença é pequena;\n",
    "- porém, analisando os segundos, épsilom 0.9 chegou no q-table 100% em menos tempo que o épsilom 0.99."
   ]
  },
  {
   "cell_type": "code",
   "execution_count": 324,
   "id": "12f62ba8",
   "metadata": {},
   "outputs": [
    {
     "data": {
      "image/png": "[encoded data removed]",
      "text/plain": [
       "<Figure size 640x480 with 1 Axes>"
      ]
     },
     "metadata": {},
     "output_type": "display_data"
    }
   ],
   "source": [
    "fig = q_min_episodes.plot(kind='bar')\n",
    "plt.title('Minimum number of training episodes that\\ngenerates a Qtable that solves 100% of the states.')\n",
    "plt.xlabel('Epsilon type')\n",
    "plt.ylabel('Hundreds of training episodes')\n",
    "plt.xticks(rotation=0)\n",
    "fig.bar_label(fig.containers[0], label_type='edge')\n",
    "plt.show()"
   ]
  },
  {
   "attachments": {},
   "cell_type": "markdown",
   "id": "14684e07",
   "metadata": {},
   "source": [
    "Comparando apenas segundos (pegando o menor como 100%, para facilitar a comparação)"
   ]
  },
  {
   "cell_type": "code",
   "execution_count": 325,
   "id": "9a7ecbdd",
   "metadata": {},
   "outputs": [
    {
     "data": {
      "text/html": [
       "<div>\n",
       "<style scoped>\n",
       "    .dataframe tbody tr th:only-of-type {\n",
       "        vertical-align: middle;\n",
       "    }\n",
       "\n",
       "    .dataframe tbody tr th {\n",
       "        vertical-align: top;\n",
       "    }\n",
       "\n",
       "    .dataframe thead th {\n",
       "        text-align: right;\n",
       "    }\n",
       "</style>\n",
       "<table border=\"1\" class=\"dataframe\">\n",
       "  <thead>\n",
       "    <tr style=\"text-align: right;\">\n",
       "      <th></th>\n",
       "      <th>total_seconds</th>\n",
       "    </tr>\n",
       "    <tr>\n",
       "      <th>epsilon_type</th>\n",
       "      <th></th>\n",
       "    </tr>\n",
       "  </thead>\n",
       "  <tbody>\n",
       "    <tr>\n",
       "      <th>b</th>\n",
       "      <td>100.000000</td>\n",
       "    </tr>\n",
       "    <tr>\n",
       "      <th>d</th>\n",
       "      <td>131.124534</td>\n",
       "    </tr>\n",
       "    <tr>\n",
       "      <th>g</th>\n",
       "      <td>111.030799</td>\n",
       "    </tr>\n",
       "  </tbody>\n",
       "</table>\n",
       "</div>"
      ],
      "text/plain": [
       "              total_seconds\n",
       "epsilon_type               \n",
       "b                100.000000\n",
       "d                131.124534\n",
       "g                111.030799"
      ]
     },
     "execution_count": 325,
     "metadata": {},
     "output_type": "execute_result"
    }
   ],
   "source": [
    "graph_secs = q_min_episodes[['total_seconds']]\n",
    "min_total_seconds = graph_secs['total_seconds'].min()\n",
    "graph_secs.loc[:, 'total_seconds'] = graph_secs.loc[:, 'total_seconds'] / min_total_seconds * 100\n",
    "graph_secs"
   ]
  },
  {
   "cell_type": "code",
   "execution_count": 326,
   "metadata": {},
   "outputs": [
    {
     "data": {
      "image/png": "[encoded data removed]",
      "text/plain": [
       "<Figure size 640x480 with 1 Axes>"
      ]
     },
     "metadata": {},
     "output_type": "display_data"
    }
   ],
   "source": [
    "fig, ax = plt.subplots()\n",
    "\n",
    "graph_secs.plot(kind='bar', ax=ax)\n",
    "\n",
    "for p in ax.patches:\n",
    "    ax.annotate(format(p.get_height(), '.2f'), \n",
    "                (p.get_x() + p.get_width() / 2., p.get_height()), \n",
    "                ha = 'center', va = 'center', xytext = (0, 5), \n",
    "                textcoords = 'offset points')\n",
    "\n",
    "ax.set_title('Total seconds until q-table 100% by epsilon type')\n",
    "ax.set_xlabel('Epsilon type')\n",
    "ax.set_ylabel('Total seconds')\n",
    "\n",
    "ax.tick_params(axis='x', rotation=0)\n",
    "\n",
    "plt.show()"
   ]
  }
 ],
 "metadata": {
  "kernelspec": {
   "display_name": "Python 3 (ipykernel)",
   "language": "python",
   "name": "python3"
  },
  "language_info": {
   "codemirror_mode": {
    "name": "ipython",
    "version": 3
   },
   "file_extension": ".py",
   "mimetype": "text/x-python",
   "name": "python",
   "nbconvert_exporter": "python",
   "pygments_lexer": "ipython3",
   "version": "3.8.16"
  }
 },
 "nbformat": 4,
 "nbformat_minor": 5
}
