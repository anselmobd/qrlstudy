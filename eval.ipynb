{
 "cells": [
  {
   "cell_type": "code",
   "execution_count": 2,
   "id": "9d711d1b-a5bc-481f-9f6c-e46636239bf8",
   "metadata": {
    "tags": []
   },
   "outputs": [],
   "source": [
    "import csv\n",
    "import numpy as np\n",
    "import pandas as pd\n",
    "import matplotlib.pyplot as plt\n",
    "from functools import lru_cache\n",
    "from pprint import pprint"
   ]
  },
  {
   "attachments": {},
   "cell_type": "markdown",
   "id": "561fb033",
   "metadata": {},
   "source": [
    "### Testando o carregamento do CSV do aprendizado da Q-table"
   ]
  },
  {
   "cell_type": "code",
   "execution_count": 3,
   "id": "810a1637",
   "metadata": {},
   "outputs": [
    {
     "data": {
      "text/html": [
       "<div>\n",
       "<style scoped>\n",
       "    .dataframe tbody tr th:only-of-type {\n",
       "        vertical-align: middle;\n",
       "    }\n",
       "\n",
       "    .dataframe tbody tr th {\n",
       "        vertical-align: top;\n",
       "    }\n",
       "\n",
       "    .dataframe thead th {\n",
       "        text-align: right;\n",
       "    }\n",
       "</style>\n",
       "<table border=\"1\" class=\"dataframe\">\n",
       "  <thead>\n",
       "    <tr style=\"text-align: right;\">\n",
       "      <th></th>\n",
       "      <th>episode</th>\n",
       "      <th>epsilon</th>\n",
       "      <th>steps</th>\n",
       "      <th>dones</th>\n",
       "      <th>truncs</th>\n",
       "      <th>total_seconds</th>\n",
       "      <th>q_table_zeros</th>\n",
       "    </tr>\n",
       "  </thead>\n",
       "  <tbody>\n",
       "    <tr>\n",
       "      <th>0</th>\n",
       "      <td>0</td>\n",
       "      <td>0.0</td>\n",
       "      <td>0</td>\n",
       "      <td>0</td>\n",
       "      <td>0</td>\n",
       "      <td>0.000000</td>\n",
       "      <td>3000</td>\n",
       "    </tr>\n",
       "    <tr>\n",
       "      <th>1</th>\n",
       "      <td>1</td>\n",
       "      <td>0.1</td>\n",
       "      <td>493</td>\n",
       "      <td>1</td>\n",
       "      <td>0</td>\n",
       "      <td>0.056299</td>\n",
       "      <td>2737</td>\n",
       "    </tr>\n",
       "    <tr>\n",
       "      <th>2</th>\n",
       "      <td>2</td>\n",
       "      <td>0.1</td>\n",
       "      <td>1000</td>\n",
       "      <td>1</td>\n",
       "      <td>1</td>\n",
       "      <td>0.170006</td>\n",
       "      <td>2276</td>\n",
       "    </tr>\n",
       "    <tr>\n",
       "      <th>3</th>\n",
       "      <td>3</td>\n",
       "      <td>0.1</td>\n",
       "      <td>529</td>\n",
       "      <td>2</td>\n",
       "      <td>1</td>\n",
       "      <td>0.226841</td>\n",
       "      <td>2137</td>\n",
       "    </tr>\n",
       "    <tr>\n",
       "      <th>4</th>\n",
       "      <td>4</td>\n",
       "      <td>0.1</td>\n",
       "      <td>231</td>\n",
       "      <td>3</td>\n",
       "      <td>1</td>\n",
       "      <td>0.251402</td>\n",
       "      <td>2137</td>\n",
       "    </tr>\n",
       "  </tbody>\n",
       "</table>\n",
       "</div>"
      ],
      "text/plain": [
       "   episode  epsilon  steps  dones  truncs  total_seconds  q_table_zeros\n",
       "0        0      0.0      0      0       0       0.000000           3000\n",
       "1        1      0.1    493      1       0       0.056299           2737\n",
       "2        2      0.1   1000      1       1       0.170006           2276\n",
       "3        3      0.1    529      2       1       0.226841           2137\n",
       "4        4      0.1    231      3       1       0.251402           2137"
      ]
     },
     "execution_count": 3,
     "metadata": {},
     "output_type": "execute_result"
    }
   ],
   "source": [
    "qgye_csv = \"qtb/qgye2/qgye2_a_15000_1000.csv\"\n",
    "qgye = pd.read_csv(qgye_csv, sep=\";\")\n",
    "qgye.head()"
   ]
  },
  {
   "attachments": {},
   "cell_type": "markdown",
   "id": "d3e0d422",
   "metadata": {},
   "source": [
    "Cálculo de número de steps até determinado episódio"
   ]
  },
  {
   "cell_type": "code",
   "execution_count": 4,
   "id": "9e604c98",
   "metadata": {},
   "outputs": [
    {
     "data": {
      "text/plain": [
       "63934"
      ]
     },
     "execution_count": 4,
     "metadata": {},
     "output_type": "execute_result"
    }
   ],
   "source": [
    "qgye[qgye['episode']<=200]['steps'].sum()"
   ]
  },
  {
   "attachments": {},
   "cell_type": "markdown",
   "id": "8acad615",
   "metadata": {},
   "source": [
    "Cálculo de segundos corridos até determinado episódio"
   ]
  },
  {
   "cell_type": "code",
   "execution_count": 5,
   "id": "f2aaf387",
   "metadata": {},
   "outputs": [
    {
     "data": {
      "text/plain": [
       "6.82568"
      ]
     },
     "execution_count": 5,
     "metadata": {},
     "output_type": "execute_result"
    }
   ],
   "source": [
    "num = qgye.iloc[200]['total_seconds']\n",
    "num"
   ]
  },
  {
   "attachments": {},
   "cell_type": "markdown",
   "id": "a69cf703",
   "metadata": {},
   "source": [
    "Função que carrega CSV do aprendizado em dataframe"
   ]
  },
  {
   "cell_type": "code",
   "execution_count": 6,
   "id": "0cd4485e",
   "metadata": {},
   "outputs": [],
   "source": [
    "@lru_cache(maxsize=100)\n",
    "def get_qgye(\n",
    "    epsilon_option,\n",
    "    num_episodes,\n",
    "    max_steps,\n",
    "):\n",
    "    qgye_csv = f\"qtb/qgye2/qgye2_{epsilon_option}_{num_episodes}_{max_steps}.csv\"\n",
    "    qgye = pd.read_csv(qgye_csv, sep=\";\")\n",
    "    return qgye"
   ]
  },
  {
   "attachments": {},
   "cell_type": "markdown",
   "id": "2d61ec59",
   "metadata": {},
   "source": [
    "Função que pega total de steps e segundos de um episódio de um CSV de aprendizagem"
   ]
  },
  {
   "cell_type": "code",
   "execution_count": 7,
   "id": "3b5e7ebc",
   "metadata": {},
   "outputs": [],
   "source": [
    "@lru_cache(maxsize=100)\n",
    "def steps_secs(\n",
    "    epsilon_option,\n",
    "    num_episodes,\n",
    "    max_steps,\n",
    "    episode,\n",
    "):\n",
    "    qgye = get_qgye(\n",
    "        epsilon_option,\n",
    "        num_episodes,\n",
    "        max_steps,\n",
    "    )\n",
    "    steps = qgye[qgye['episode']<=episode]['steps'].sum()\n",
    "    total_seconds = qgye.iloc[episode]['total_seconds']\n",
    "    return steps, total_seconds"
   ]
  },
  {
   "attachments": {},
   "cell_type": "markdown",
   "id": "2f9dcf58",
   "metadata": {},
   "source": [
    "Teste"
   ]
  },
  {
   "cell_type": "code",
   "execution_count": 8,
   "id": "91a0aaa9",
   "metadata": {},
   "outputs": [
    {
     "data": {
      "text/plain": [
       "(77224, 8.259225)"
      ]
     },
     "execution_count": 8,
     "metadata": {},
     "output_type": "execute_result"
    }
   ],
   "source": [
    "steps_secs('a', 15000, 1000, 300)"
   ]
  },
  {
   "attachments": {},
   "cell_type": "markdown",
   "id": "16ef46a7",
   "metadata": {},
   "source": [
    "### Carregando o arquivo de avaliação da aprendizagem"
   ]
  },
  {
   "cell_type": "code",
   "execution_count": 9,
   "id": "aa50f1af-9565-46eb-af9b-9d70f65dff4a",
   "metadata": {
    "tags": []
   },
   "outputs": [],
   "source": [
    "eval_file_name = \"qtb/qgye2/qeval.txt\""
   ]
  },
  {
   "cell_type": "code",
   "execution_count": 10,
   "id": "6d0d7b52-5128-4f60-a820-5ee6c84a7e34",
   "metadata": {
    "tags": []
   },
   "outputs": [
    {
     "data": {
      "text/html": [
       "<div>\n",
       "<style scoped>\n",
       "    .dataframe tbody tr th:only-of-type {\n",
       "        vertical-align: middle;\n",
       "    }\n",
       "\n",
       "    .dataframe tbody tr th {\n",
       "        vertical-align: top;\n",
       "    }\n",
       "\n",
       "    .dataframe thead th {\n",
       "        text-align: right;\n",
       "    }\n",
       "</style>\n",
       "<table border=\"1\" class=\"dataframe\">\n",
       "  <thead>\n",
       "    <tr style=\"text-align: right;\">\n",
       "      <th></th>\n",
       "      <th>epsilon_type</th>\n",
       "      <th>train_episodes</th>\n",
       "      <th>percent_dones</th>\n",
       "      <th>avg_steps</th>\n",
       "    </tr>\n",
       "  </thead>\n",
       "  <tbody>\n",
       "    <tr>\n",
       "      <th>0</th>\n",
       "      <td>d</td>\n",
       "      <td>13900</td>\n",
       "      <td>99.33</td>\n",
       "      <td>13.040268</td>\n",
       "    </tr>\n",
       "    <tr>\n",
       "      <th>1</th>\n",
       "      <td>a</td>\n",
       "      <td>7400</td>\n",
       "      <td>81.33</td>\n",
       "      <td>12.631148</td>\n",
       "    </tr>\n",
       "    <tr>\n",
       "      <th>2</th>\n",
       "      <td>f</td>\n",
       "      <td>4000</td>\n",
       "      <td>93.67</td>\n",
       "      <td>12.836299</td>\n",
       "    </tr>\n",
       "    <tr>\n",
       "      <th>3</th>\n",
       "      <td>g</td>\n",
       "      <td>10200</td>\n",
       "      <td>100.00</td>\n",
       "      <td>13.070000</td>\n",
       "    </tr>\n",
       "    <tr>\n",
       "      <th>4</th>\n",
       "      <td>e</td>\n",
       "      <td>10400</td>\n",
       "      <td>94.33</td>\n",
       "      <td>12.932862</td>\n",
       "    </tr>\n",
       "  </tbody>\n",
       "</table>\n",
       "</div>"
      ],
      "text/plain": [
       "  epsilon_type  train_episodes  percent_dones  avg_steps\n",
       "0            d           13900          99.33  13.040268\n",
       "1            a            7400          81.33  12.631148\n",
       "2            f            4000          93.67  12.836299\n",
       "3            g           10200         100.00  13.070000\n",
       "4            e           10400          94.33  12.932862"
      ]
     },
     "execution_count": 10,
     "metadata": {},
     "output_type": "execute_result"
    }
   ],
   "source": [
    "columns = ['epsilon_type','train_episodes','percent_dones','avg_steps']\n",
    "qeval = pd.read_csv(eval_file_name, sep=\";\", header=None, names=columns)\n",
    "qeval.head()"
   ]
  },
  {
   "attachments": {},
   "cell_type": "markdown",
   "id": "fa54b6b6",
   "metadata": {},
   "source": [
    "Adicionando ao dataframe de avaliação os steps e os segundos"
   ]
  },
  {
   "cell_type": "code",
   "execution_count": 11,
   "id": "a25df19b",
   "metadata": {},
   "outputs": [
    {
     "data": {
      "text/html": [
       "<div>\n",
       "<style scoped>\n",
       "    .dataframe tbody tr th:only-of-type {\n",
       "        vertical-align: middle;\n",
       "    }\n",
       "\n",
       "    .dataframe tbody tr th {\n",
       "        vertical-align: top;\n",
       "    }\n",
       "\n",
       "    .dataframe thead th {\n",
       "        text-align: right;\n",
       "    }\n",
       "</style>\n",
       "<table border=\"1\" class=\"dataframe\">\n",
       "  <thead>\n",
       "    <tr style=\"text-align: right;\">\n",
       "      <th></th>\n",
       "      <th>epsilon_type</th>\n",
       "      <th>train_episodes</th>\n",
       "      <th>percent_dones</th>\n",
       "      <th>avg_steps</th>\n",
       "      <th>steps</th>\n",
       "      <th>total_seconds</th>\n",
       "    </tr>\n",
       "  </thead>\n",
       "  <tbody>\n",
       "    <tr>\n",
       "      <th>0</th>\n",
       "      <td>d</td>\n",
       "      <td>13900</td>\n",
       "      <td>99.33</td>\n",
       "      <td>13.040268</td>\n",
       "      <td>784419</td>\n",
       "      <td>113.452929</td>\n",
       "    </tr>\n",
       "    <tr>\n",
       "      <th>1</th>\n",
       "      <td>a</td>\n",
       "      <td>7400</td>\n",
       "      <td>81.33</td>\n",
       "      <td>12.631148</td>\n",
       "      <td>231349</td>\n",
       "      <td>26.333159</td>\n",
       "    </tr>\n",
       "    <tr>\n",
       "      <th>2</th>\n",
       "      <td>f</td>\n",
       "      <td>4000</td>\n",
       "      <td>93.67</td>\n",
       "      <td>12.836299</td>\n",
       "      <td>419299</td>\n",
       "      <td>69.103914</td>\n",
       "    </tr>\n",
       "    <tr>\n",
       "      <th>3</th>\n",
       "      <td>g</td>\n",
       "      <td>10200</td>\n",
       "      <td>100.00</td>\n",
       "      <td>13.070000</td>\n",
       "      <td>7946622</td>\n",
       "      <td>1162.616029</td>\n",
       "    </tr>\n",
       "    <tr>\n",
       "      <th>4</th>\n",
       "      <td>e</td>\n",
       "      <td>10400</td>\n",
       "      <td>94.33</td>\n",
       "      <td>12.932862</td>\n",
       "      <td>421043</td>\n",
       "      <td>61.208309</td>\n",
       "    </tr>\n",
       "  </tbody>\n",
       "</table>\n",
       "</div>"
      ],
      "text/plain": [
       "  epsilon_type  train_episodes  percent_dones  avg_steps    steps   \n",
       "0            d           13900          99.33  13.040268   784419  \\\n",
       "1            a            7400          81.33  12.631148   231349   \n",
       "2            f            4000          93.67  12.836299   419299   \n",
       "3            g           10200         100.00  13.070000  7946622   \n",
       "4            e           10400          94.33  12.932862   421043   \n",
       "\n",
       "   total_seconds  \n",
       "0     113.452929  \n",
       "1      26.333159  \n",
       "2      69.103914  \n",
       "3    1162.616029  \n",
       "4      61.208309  "
      ]
     },
     "execution_count": 11,
     "metadata": {},
     "output_type": "execute_result"
    }
   ],
   "source": [
    "qeval['steps'] = qeval.apply(\n",
    "    lambda x: steps_secs(\n",
    "        x['epsilon_type'], 15000, 1000, x['train_episodes']\n",
    "    )[0],\n",
    "    axis=1,\n",
    ")\n",
    "qeval['total_seconds'] = qeval.apply(\n",
    "    lambda x: steps_secs(\n",
    "        x['epsilon_type'], 15000, 1000, x['train_episodes']\n",
    "    )[1],\n",
    "    axis=1,\n",
    ")\n",
    "qeval.head()"
   ]
  },
  {
   "attachments": {},
   "cell_type": "markdown",
   "id": "ced458dd",
   "metadata": {},
   "source": [
    "Coluna train_episodes passa a ser em centenas"
   ]
  },
  {
   "cell_type": "code",
   "execution_count": 12,
   "id": "50e645b8",
   "metadata": {},
   "outputs": [
    {
     "data": {
      "text/html": [
       "<div>\n",
       "<style scoped>\n",
       "    .dataframe tbody tr th:only-of-type {\n",
       "        vertical-align: middle;\n",
       "    }\n",
       "\n",
       "    .dataframe tbody tr th {\n",
       "        vertical-align: top;\n",
       "    }\n",
       "\n",
       "    .dataframe thead th {\n",
       "        text-align: right;\n",
       "    }\n",
       "</style>\n",
       "<table border=\"1\" class=\"dataframe\">\n",
       "  <thead>\n",
       "    <tr style=\"text-align: right;\">\n",
       "      <th></th>\n",
       "      <th>epsilon_type</th>\n",
       "      <th>train_episodes</th>\n",
       "      <th>percent_dones</th>\n",
       "      <th>avg_steps</th>\n",
       "      <th>steps</th>\n",
       "      <th>total_seconds</th>\n",
       "    </tr>\n",
       "  </thead>\n",
       "  <tbody>\n",
       "    <tr>\n",
       "      <th>0</th>\n",
       "      <td>d</td>\n",
       "      <td>139.0</td>\n",
       "      <td>99.33</td>\n",
       "      <td>13.040268</td>\n",
       "      <td>784419</td>\n",
       "      <td>113.452929</td>\n",
       "    </tr>\n",
       "    <tr>\n",
       "      <th>1</th>\n",
       "      <td>a</td>\n",
       "      <td>74.0</td>\n",
       "      <td>81.33</td>\n",
       "      <td>12.631148</td>\n",
       "      <td>231349</td>\n",
       "      <td>26.333159</td>\n",
       "    </tr>\n",
       "    <tr>\n",
       "      <th>2</th>\n",
       "      <td>f</td>\n",
       "      <td>40.0</td>\n",
       "      <td>93.67</td>\n",
       "      <td>12.836299</td>\n",
       "      <td>419299</td>\n",
       "      <td>69.103914</td>\n",
       "    </tr>\n",
       "    <tr>\n",
       "      <th>3</th>\n",
       "      <td>g</td>\n",
       "      <td>102.0</td>\n",
       "      <td>100.00</td>\n",
       "      <td>13.070000</td>\n",
       "      <td>7946622</td>\n",
       "      <td>1162.616029</td>\n",
       "    </tr>\n",
       "    <tr>\n",
       "      <th>4</th>\n",
       "      <td>e</td>\n",
       "      <td>104.0</td>\n",
       "      <td>94.33</td>\n",
       "      <td>12.932862</td>\n",
       "      <td>421043</td>\n",
       "      <td>61.208309</td>\n",
       "    </tr>\n",
       "  </tbody>\n",
       "</table>\n",
       "</div>"
      ],
      "text/plain": [
       "  epsilon_type  train_episodes  percent_dones  avg_steps    steps   \n",
       "0            d           139.0          99.33  13.040268   784419  \\\n",
       "1            a            74.0          81.33  12.631148   231349   \n",
       "2            f            40.0          93.67  12.836299   419299   \n",
       "3            g           102.0         100.00  13.070000  7946622   \n",
       "4            e           104.0          94.33  12.932862   421043   \n",
       "\n",
       "   total_seconds  \n",
       "0     113.452929  \n",
       "1      26.333159  \n",
       "2      69.103914  \n",
       "3    1162.616029  \n",
       "4      61.208309  "
      ]
     },
     "execution_count": 12,
     "metadata": {},
     "output_type": "execute_result"
    }
   ],
   "source": [
    "qeval['train_episodes'] = qeval['train_episodes'] / 100\n",
    "qeval.head()"
   ]
  },
  {
   "attachments": {},
   "cell_type": "markdown",
   "id": "bc96cef2",
   "metadata": {},
   "source": [
    "Separa dataframe por tipos de épsilons"
   ]
  },
  {
   "cell_type": "code",
   "execution_count": 13,
   "id": "d520e83d-185e-4ab8-a61e-fb32212332ac",
   "metadata": {
    "tags": []
   },
   "outputs": [
    {
     "data": {
      "text/html": [
       "<div>\n",
       "<style scoped>\n",
       "    .dataframe tbody tr th:only-of-type {\n",
       "        vertical-align: middle;\n",
       "    }\n",
       "\n",
       "    .dataframe tbody tr th {\n",
       "        vertical-align: top;\n",
       "    }\n",
       "\n",
       "    .dataframe thead th {\n",
       "        text-align: right;\n",
       "    }\n",
       "</style>\n",
       "<table border=\"1\" class=\"dataframe\">\n",
       "  <thead>\n",
       "    <tr style=\"text-align: right;\">\n",
       "      <th></th>\n",
       "      <th>percent_dones</th>\n",
       "      <th>avg_steps</th>\n",
       "      <th>steps</th>\n",
       "      <th>total_seconds</th>\n",
       "    </tr>\n",
       "    <tr>\n",
       "      <th>train_episodes</th>\n",
       "      <th></th>\n",
       "      <th></th>\n",
       "      <th></th>\n",
       "      <th></th>\n",
       "    </tr>\n",
       "  </thead>\n",
       "  <tbody>\n",
       "    <tr>\n",
       "      <th>1.0</th>\n",
       "      <td>0.00</td>\n",
       "      <td>0.000000</td>\n",
       "      <td>44523</td>\n",
       "      <td>4.744126</td>\n",
       "    </tr>\n",
       "    <tr>\n",
       "      <th>2.0</th>\n",
       "      <td>0.33</td>\n",
       "      <td>7.000000</td>\n",
       "      <td>63934</td>\n",
       "      <td>6.825680</td>\n",
       "    </tr>\n",
       "    <tr>\n",
       "      <th>3.0</th>\n",
       "      <td>0.33</td>\n",
       "      <td>6.000000</td>\n",
       "      <td>77224</td>\n",
       "      <td>8.259225</td>\n",
       "    </tr>\n",
       "    <tr>\n",
       "      <th>4.0</th>\n",
       "      <td>4.00</td>\n",
       "      <td>8.416667</td>\n",
       "      <td>86240</td>\n",
       "      <td>9.231001</td>\n",
       "    </tr>\n",
       "    <tr>\n",
       "      <th>5.0</th>\n",
       "      <td>10.67</td>\n",
       "      <td>9.187500</td>\n",
       "      <td>94775</td>\n",
       "      <td>10.152999</td>\n",
       "    </tr>\n",
       "  </tbody>\n",
       "</table>\n",
       "</div>"
      ],
      "text/plain": [
       "                percent_dones  avg_steps  steps  total_seconds\n",
       "train_episodes                                                \n",
       "1.0                      0.00   0.000000  44523       4.744126\n",
       "2.0                      0.33   7.000000  63934       6.825680\n",
       "3.0                      0.33   6.000000  77224       8.259225\n",
       "4.0                      4.00   8.416667  86240       9.231001\n",
       "5.0                     10.67   9.187500  94775      10.152999"
      ]
     },
     "execution_count": 13,
     "metadata": {},
     "output_type": "execute_result"
    }
   ],
   "source": [
    "evals={}\n",
    "for e_type in 'abcdefg':\n",
    "    eval_t = qeval[qeval['epsilon_type']==e_type].sort_values('train_episodes')[['train_episodes', 'percent_dones', 'avg_steps', 'steps', 'total_seconds']]\n",
    "    evals[e_type] = eval_t.set_index('train_episodes')\n",
    "evals[\"a\"].head()"
   ]
  },
  {
   "attachments": {},
   "cell_type": "markdown",
   "id": "bcb61c9d",
   "metadata": {},
   "source": [
    "Testa visualização da aprendizagem de um tipo de épsilon"
   ]
  },
  {
   "cell_type": "code",
   "execution_count": 14,
   "id": "9e057995",
   "metadata": {},
   "outputs": [
    {
     "data": {
      "text/plain": [
       "Text(0.5, 0, 'train episodes')"
      ]
     },
     "execution_count": 14,
     "metadata": {},
     "output_type": "execute_result"
    },
    {
     "data": {
      "image/png": "[encoded data removed]",
      "text/plain": [
       "<Figure size 640x480 with 4 Axes>"
      ]
     },
     "metadata": {},
     "output_type": "display_data"
    }
   ],
   "source": [
    "fig, ax = plt.subplots(4, 1, sharex=True)\n",
    "\n",
    "# ax[0].set_title(\"percent dones\", size = 20)\n",
    "e='a'\n",
    "\n",
    "ax[0].plot(evals[e]['percent_dones'])\n",
    "ax[0].legend([e])\n",
    "ax[0].set_ylabel(\"percent dones\")\n",
    "ax[0].set_ylim(bottom=0)\n",
    "\n",
    "ax[1].plot(evals[e]['avg_steps'])\n",
    "ax[1].legend([e])\n",
    "ax[1].set_ylabel(\"avg steps\")\n",
    "ax[1].set_ylim(bottom=0)\n",
    "\n",
    "ax[2].plot(evals[e]['steps'])\n",
    "ax[2].legend([e])\n",
    "ax[2].set_ylabel(\"steps\")\n",
    "ax[2].set_ylim(bottom=0)\n",
    "\n",
    "ax[3].plot(evals[e]['total_seconds'])\n",
    "ax[3].legend([e])\n",
    "ax[3].set_ylabel(\"total_seconds\")\n",
    "ax[3].set_ylim(bottom=0)\n",
    "\n",
    "ax[3].set_xlabel(\"train episodes\", size = 20)"
   ]
  },
  {
   "attachments": {},
   "cell_type": "markdown",
   "id": "3cfa7ab9",
   "metadata": {},
   "source": [
    "Visualização de comparação de todos os tipos de épsilons"
   ]
  },
  {
   "cell_type": "code",
   "execution_count": 21,
   "id": "ca62488e",
   "metadata": {},
   "outputs": [
    {
     "data": {
      "image/png": "[encoded data removed]",
      "text/plain": [
       "<Figure size 640x480 with 4 Axes>"
      ]
     },
     "metadata": {},
     "output_type": "display_data"
    }
   ],
   "source": [
    "fig, ax = plt.subplots(2, 2, sharex=True)\n",
    "\n",
    "for e in evals:\n",
    "    ax[0, 0].plot(evals[e]['percent_dones'])\n",
    "    ax[0, 1].plot(evals[e]['avg_steps'])\n",
    "    ax[1, 0].plot(evals[e]['steps'])\n",
    "    ax[1, 1].plot(evals[e]['total_seconds'])\n",
    "\n",
    "fig.suptitle(\"compare epsilons\", size = 20)\n",
    "\n",
    "ax[0, 0].set_ylabel(\"percent dones\")\n",
    "# ax[0].set_ylim(bottom=0)\n",
    "\n",
    "ax[0, 1].set_ylabel(\"avg steps\")\n",
    "# ax[1].set_ylim(bottom=0)\n",
    "\n",
    "ax[1, 0].set_ylabel(\"steps\")\n",
    "\n",
    "ax[1, 0].set_xlabel(\"train episodes\")\n",
    "\n",
    "ax[1, 1].set_ylabel(\"total_seconds\")\n",
    "\n",
    "ax[1, 1].set_xlabel(\"train episodes\")\n",
    "\n",
    "fig.legend(evals.keys(), loc='center left', bbox_to_anchor=(1, 0.5))\n",
    "\n",
    "plt.tight_layout()\n",
    "plt.show()"
   ]
  },
  {
   "attachments": {},
   "cell_type": "markdown",
   "id": "566192b1",
   "metadata": {},
   "source": [
    "Montando dict de dataframes de apenas com qtables com percent_dones 100%\n",
    "\n",
    "[não utilizado adiante]"
   ]
  },
  {
   "cell_type": "code",
   "execution_count": 16,
   "id": "fdb98fe9",
   "metadata": {},
   "outputs": [
    {
     "data": {
      "text/html": [
       "<div>\n",
       "<style scoped>\n",
       "    .dataframe tbody tr th:only-of-type {\n",
       "        vertical-align: middle;\n",
       "    }\n",
       "\n",
       "    .dataframe tbody tr th {\n",
       "        vertical-align: top;\n",
       "    }\n",
       "\n",
       "    .dataframe thead th {\n",
       "        text-align: right;\n",
       "    }\n",
       "</style>\n",
       "<table border=\"1\" class=\"dataframe\">\n",
       "  <thead>\n",
       "    <tr style=\"text-align: right;\">\n",
       "      <th></th>\n",
       "      <th>avg_steps</th>\n",
       "    </tr>\n",
       "    <tr>\n",
       "      <th>train_episodes</th>\n",
       "      <th></th>\n",
       "    </tr>\n",
       "  </thead>\n",
       "  <tbody>\n",
       "    <tr>\n",
       "      <th>19.0</th>\n",
       "      <td>13.07</td>\n",
       "    </tr>\n",
       "    <tr>\n",
       "      <th>24.0</th>\n",
       "      <td>13.07</td>\n",
       "    </tr>\n",
       "    <tr>\n",
       "      <th>25.0</th>\n",
       "      <td>13.07</td>\n",
       "    </tr>\n",
       "    <tr>\n",
       "      <th>26.0</th>\n",
       "      <td>13.07</td>\n",
       "    </tr>\n",
       "    <tr>\n",
       "      <th>27.0</th>\n",
       "      <td>13.07</td>\n",
       "    </tr>\n",
       "  </tbody>\n",
       "</table>\n",
       "</div>"
      ],
      "text/plain": [
       "                avg_steps\n",
       "train_episodes           \n",
       "19.0                13.07\n",
       "24.0                13.07\n",
       "25.0                13.07\n",
       "26.0                13.07\n",
       "27.0                13.07"
      ]
     },
     "execution_count": 16,
     "metadata": {},
     "output_type": "execute_result"
    }
   ],
   "source": [
    "dones={}\n",
    "for e_type in 'abcdefg':\n",
    "    eval_t = qeval[(qeval['epsilon_type']==e_type) & (qeval['percent_dones']==100)].sort_values('train_episodes')[['train_episodes', 'avg_steps']]\n",
    "    dones[e_type] = eval_t.set_index('train_episodes')\n",
    "dones[\"b\"].head()"
   ]
  },
  {
   "attachments": {},
   "cell_type": "markdown",
   "id": "91dadc94",
   "metadata": {},
   "source": [
    "Montando q100, fitrando arquivo de avaliação da aprendizagem por percent_dones 100%"
   ]
  },
  {
   "cell_type": "code",
   "execution_count": 17,
   "metadata": {},
   "outputs": [
    {
     "data": {
      "text/html": [
       "<div>\n",
       "<style scoped>\n",
       "    .dataframe tbody tr th:only-of-type {\n",
       "        vertical-align: middle;\n",
       "    }\n",
       "\n",
       "    .dataframe tbody tr th {\n",
       "        vertical-align: top;\n",
       "    }\n",
       "\n",
       "    .dataframe thead th {\n",
       "        text-align: right;\n",
       "    }\n",
       "</style>\n",
       "<table border=\"1\" class=\"dataframe\">\n",
       "  <thead>\n",
       "    <tr style=\"text-align: right;\">\n",
       "      <th></th>\n",
       "      <th>epsilon_type</th>\n",
       "      <th>train_episodes</th>\n",
       "      <th>percent_dones</th>\n",
       "      <th>avg_steps</th>\n",
       "      <th>steps</th>\n",
       "      <th>total_seconds</th>\n",
       "    </tr>\n",
       "  </thead>\n",
       "  <tbody>\n",
       "    <tr>\n",
       "      <th>3</th>\n",
       "      <td>g</td>\n",
       "      <td>102.0</td>\n",
       "      <td>100.0</td>\n",
       "      <td>13.07</td>\n",
       "      <td>7946622</td>\n",
       "      <td>1162.616029</td>\n",
       "    </tr>\n",
       "    <tr>\n",
       "      <th>8</th>\n",
       "      <td>g</td>\n",
       "      <td>67.0</td>\n",
       "      <td>100.0</td>\n",
       "      <td>13.07</td>\n",
       "      <td>5228872</td>\n",
       "      <td>726.554303</td>\n",
       "    </tr>\n",
       "    <tr>\n",
       "      <th>9</th>\n",
       "      <td>b</td>\n",
       "      <td>118.0</td>\n",
       "      <td>100.0</td>\n",
       "      <td>13.07</td>\n",
       "      <td>2650542</td>\n",
       "      <td>345.339188</td>\n",
       "    </tr>\n",
       "    <tr>\n",
       "      <th>12</th>\n",
       "      <td>d</td>\n",
       "      <td>102.0</td>\n",
       "      <td>100.0</td>\n",
       "      <td>13.07</td>\n",
       "      <td>723998</td>\n",
       "      <td>103.670721</td>\n",
       "    </tr>\n",
       "    <tr>\n",
       "      <th>14</th>\n",
       "      <td>g</td>\n",
       "      <td>60.0</td>\n",
       "      <td>100.0</td>\n",
       "      <td>13.07</td>\n",
       "      <td>4677987</td>\n",
       "      <td>647.939199</td>\n",
       "    </tr>\n",
       "  </tbody>\n",
       "</table>\n",
       "</div>"
      ],
      "text/plain": [
       "   epsilon_type  train_episodes  percent_dones  avg_steps    steps   \n",
       "3             g           102.0          100.0      13.07  7946622  \\\n",
       "8             g            67.0          100.0      13.07  5228872   \n",
       "9             b           118.0          100.0      13.07  2650542   \n",
       "12            d           102.0          100.0      13.07   723998   \n",
       "14            g            60.0          100.0      13.07  4677987   \n",
       "\n",
       "    total_seconds  \n",
       "3     1162.616029  \n",
       "8      726.554303  \n",
       "9      345.339188  \n",
       "12     103.670721  \n",
       "14     647.939199  "
      ]
     },
     "execution_count": 17,
     "metadata": {},
     "output_type": "execute_result"
    }
   ],
   "source": [
    "q100 = qeval[qeval['percent_dones']==100]\n",
    "q100.head()"
   ]
  },
  {
   "attachments": {},
   "cell_type": "markdown",
   "id": "89b89319",
   "metadata": {},
   "source": [
    "Do q100, pegando apenas o primeiro episódio com percent_dones 100%, para comparar steps (em dezenas de milhares) e segundos"
   ]
  },
  {
   "cell_type": "code",
   "execution_count": 18,
   "id": "09e00972",
   "metadata": {},
   "outputs": [
    {
     "data": {
      "text/html": [
       "<div>\n",
       "<style scoped>\n",
       "    .dataframe tbody tr th:only-of-type {\n",
       "        vertical-align: middle;\n",
       "    }\n",
       "\n",
       "    .dataframe tbody tr th {\n",
       "        vertical-align: top;\n",
       "    }\n",
       "\n",
       "    .dataframe thead tr th {\n",
       "        text-align: left;\n",
       "    }\n",
       "\n",
       "    .dataframe thead tr:last-of-type th {\n",
       "        text-align: right;\n",
       "    }\n",
       "</style>\n",
       "<table border=\"1\" class=\"dataframe\">\n",
       "  <thead>\n",
       "    <tr>\n",
       "      <th></th>\n",
       "      <th>train_episodes</th>\n",
       "      <th>steps</th>\n",
       "      <th>total_seconds</th>\n",
       "    </tr>\n",
       "    <tr>\n",
       "      <th></th>\n",
       "      <th>min</th>\n",
       "      <th>min</th>\n",
       "      <th>min</th>\n",
       "    </tr>\n",
       "    <tr>\n",
       "      <th>epsilon_type</th>\n",
       "      <th></th>\n",
       "      <th></th>\n",
       "      <th></th>\n",
       "    </tr>\n",
       "  </thead>\n",
       "  <tbody>\n",
       "    <tr>\n",
       "      <th>b</th>\n",
       "      <td>19.0</td>\n",
       "      <td>52.5793</td>\n",
       "      <td>62.384328</td>\n",
       "    </tr>\n",
       "    <tr>\n",
       "      <th>d</th>\n",
       "      <td>69.0</td>\n",
       "      <td>66.1484</td>\n",
       "      <td>93.913682</td>\n",
       "    </tr>\n",
       "    <tr>\n",
       "      <th>g</th>\n",
       "      <td>8.0</td>\n",
       "      <td>63.2185</td>\n",
       "      <td>84.241177</td>\n",
       "    </tr>\n",
       "  </tbody>\n",
       "</table>\n",
       "</div>"
      ],
      "text/plain": [
       "             train_episodes    steps total_seconds\n",
       "                        min      min           min\n",
       "epsilon_type                                      \n",
       "b                      19.0  52.5793     62.384328\n",
       "d                      69.0  66.1484     93.913682\n",
       "g                       8.0  63.2185     84.241177"
      ]
     },
     "execution_count": 18,
     "metadata": {},
     "output_type": "execute_result"
    }
   ],
   "source": [
    "q_min_episodes = q100.groupby(by=['epsilon_type']).aggregate({\n",
    "    'train_episodes': ['min'],\n",
    "    'steps': ['min'],\n",
    "    'total_seconds': ['min'],\n",
    "})\n",
    "q_min_episodes['steps'] = q_min_episodes['steps'] / 10_000\n",
    "q_min_episodes.head()"
   ]
  },
  {
   "attachments": {},
   "cell_type": "markdown",
   "id": "427b757a",
   "metadata": {},
   "source": [
    "Colocando os dados acima em um gráfico se percebe que:\n",
    "- a ordem dos tipos de epsilon quanto à steps é o mesmo que quanto a segundos (steps e segundos são diretamente relacionados);\n",
    "- porém, a ordem dos tipos de epsilon quanto à steps e episódios não é a mesma.\n",
    "\n",
    "Apesar do épsilom 0.99 ter chegado no q-table 100% em menos episódios, o épsilom 0.9 chegou ao mesmo em menos steps (que é proporcional aos segundos)."
   ]
  },
  {
   "cell_type": "code",
   "execution_count": 19,
   "id": "12f62ba8",
   "metadata": {},
   "outputs": [
    {
     "data": {
      "image/png": "[encoded data removed]",
      "text/plain": [
       "<Figure size 640x480 with 1 Axes>"
      ]
     },
     "metadata": {},
     "output_type": "display_data"
    }
   ],
   "source": [
    "fig = q_min_episodes.plot(kind='bar')\n",
    "plt.title('Minimum number of training episodes that\\ngenerates a Qtable that solves 100% of the states.')\n",
    "plt.xlabel('Epsilon type')\n",
    "plt.ylabel('Hundreds of training episodes')\n",
    "plt.xticks(rotation=0)\n",
    "fig.bar_label(fig.containers[0], label_type='edge')\n",
    "plt.show()"
   ]
  },
  {
   "cell_type": "code",
   "execution_count": null,
   "id": "7fcb1b2a",
   "metadata": {},
   "outputs": [],
   "source": []
  }
 ],
 "metadata": {
  "kernelspec": {
   "display_name": "Python 3 (ipykernel)",
   "language": "python",
   "name": "python3"
  },
  "language_info": {
   "codemirror_mode": {
    "name": "ipython",
    "version": 3
   },
   "file_extension": ".py",
   "mimetype": "text/x-python",
   "name": "python",
   "nbconvert_exporter": "python",
   "pygments_lexer": "ipython3",
   "version": "3.8.16"
  }
 },
 "nbformat": 4,
 "nbformat_minor": 5
}
